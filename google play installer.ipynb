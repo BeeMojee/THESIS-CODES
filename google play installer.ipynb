{
 "cells": [
  {
   "cell_type": "code",
   "execution_count": null,
   "id": "afdb90d1",
   "metadata": {
    "slideshow": {
     "slide_type": "slide"
    }
   },
   "outputs": [],
   "source": [
    "pip install google-play-scraper"
   ]
  },
  {
   "cell_type": "code",
   "execution_count": 3,
   "id": "78faba00",
   "metadata": {
    "slideshow": {
     "slide_type": "subslide"
    }
   },
   "outputs": [],
   "source": [
    "from google_play_scraper import app\n",
    "import pandas as pd\n",
    "import numpy as np "
   ]
  },
  {
   "cell_type": "code",
   "execution_count": 4,
   "id": "df5b3c1a",
   "metadata": {},
   "outputs": [],
   "source": [
    "from google_play_scraper import Sort, reviews_all"
   ]
  },
  {
   "cell_type": "code",
   "execution_count": 5,
   "id": "57c5596f",
   "metadata": {},
   "outputs": [],
   "source": [
    "us_reviews = reviews_all(\n",
    "    'com.barclays.android.barclaysmobilebanking',\n",
    "    sleep_milliseconds=0, # defaults to 0\n",
    "    lang='en', # defaults to 'en'\n",
    "    country='uk', # defaults to 'us'\n",
    "    sort=Sort.NEWEST, # defaults to Sort.MOST_RELEVANT\n",
    ") "
   ]
  },
  {
   "cell_type": "code",
   "execution_count": 7,
   "id": "e078e533",
   "metadata": {},
   "outputs": [
    {
     "data": {
      "text/html": [
       "<div>\n",
       "<style scoped>\n",
       "    .dataframe tbody tr th:only-of-type {\n",
       "        vertical-align: middle;\n",
       "    }\n",
       "\n",
       "    .dataframe tbody tr th {\n",
       "        vertical-align: top;\n",
       "    }\n",
       "\n",
       "    .dataframe thead th {\n",
       "        text-align: right;\n",
       "    }\n",
       "</style>\n",
       "<table border=\"1\" class=\"dataframe\">\n",
       "  <thead>\n",
       "    <tr style=\"text-align: right;\">\n",
       "      <th></th>\n",
       "      <th>reviewId</th>\n",
       "      <th>userName</th>\n",
       "      <th>userImage</th>\n",
       "      <th>content</th>\n",
       "      <th>score</th>\n",
       "      <th>thumbsUpCount</th>\n",
       "      <th>reviewCreatedVersion</th>\n",
       "      <th>at</th>\n",
       "      <th>replyContent</th>\n",
       "      <th>repliedAt</th>\n",
       "      <th>appVersion</th>\n",
       "    </tr>\n",
       "  </thead>\n",
       "  <tbody>\n",
       "    <tr>\n",
       "      <th>0</th>\n",
       "      <td>2947ac67-cbaa-4b28-9902-68502b426291</td>\n",
       "      <td>Amooti Mauda</td>\n",
       "      <td>https://play-lh.googleusercontent.com/a/ACg8oc...</td>\n",
       "      <td>Very appropriate thanks</td>\n",
       "      <td>5</td>\n",
       "      <td>0</td>\n",
       "      <td>2.89.0</td>\n",
       "      <td>2024-03-01 23:33:52</td>\n",
       "      <td>None</td>\n",
       "      <td>NaT</td>\n",
       "      <td>2.89.0</td>\n",
       "    </tr>\n",
       "    <tr>\n",
       "      <th>1</th>\n",
       "      <td>b8316d47-5ec1-4197-986b-81e5d59c1bef</td>\n",
       "      <td>Sue Evans</td>\n",
       "      <td>https://play-lh.googleusercontent.com/a/ACg8oc...</td>\n",
       "      <td>Easy,very very good thankyou</td>\n",
       "      <td>5</td>\n",
       "      <td>0</td>\n",
       "      <td>2.90.0</td>\n",
       "      <td>2024-03-01 23:17:51</td>\n",
       "      <td>None</td>\n",
       "      <td>NaT</td>\n",
       "      <td>2.90.0</td>\n",
       "    </tr>\n",
       "    <tr>\n",
       "      <th>2</th>\n",
       "      <td>d3b8f714-5f51-4c4f-b36d-00855612a0d0</td>\n",
       "      <td>Isobel Pearce</td>\n",
       "      <td>https://play-lh.googleusercontent.com/a/ACg8oc...</td>\n",
       "      <td>Very easy to navigate and use</td>\n",
       "      <td>5</td>\n",
       "      <td>0</td>\n",
       "      <td>2.89.0</td>\n",
       "      <td>2024-03-01 23:00:03</td>\n",
       "      <td>None</td>\n",
       "      <td>NaT</td>\n",
       "      <td>2.89.0</td>\n",
       "    </tr>\n",
       "    <tr>\n",
       "      <th>3</th>\n",
       "      <td>40320d5e-27ba-45bd-a326-176d7fda8cb0</td>\n",
       "      <td>SHAM TAVA</td>\n",
       "      <td>https://play-lh.googleusercontent.com/a-/ALV-U...</td>\n",
       "      <td>Fantastic! And easy to worry and security. Won...</td>\n",
       "      <td>5</td>\n",
       "      <td>0</td>\n",
       "      <td>2.89.0</td>\n",
       "      <td>2024-03-01 22:52:14</td>\n",
       "      <td>None</td>\n",
       "      <td>NaT</td>\n",
       "      <td>2.89.0</td>\n",
       "    </tr>\n",
       "    <tr>\n",
       "      <th>4</th>\n",
       "      <td>097b9c32-f84c-4ca0-9e35-dacfc2b55606</td>\n",
       "      <td>Gillian Brandreth</td>\n",
       "      <td>https://play-lh.googleusercontent.com/a/ACg8oc...</td>\n",
       "      <td>Good</td>\n",
       "      <td>5</td>\n",
       "      <td>0</td>\n",
       "      <td>None</td>\n",
       "      <td>2024-03-01 22:18:17</td>\n",
       "      <td>None</td>\n",
       "      <td>NaT</td>\n",
       "      <td>None</td>\n",
       "    </tr>\n",
       "  </tbody>\n",
       "</table>\n",
       "</div>"
      ],
      "text/plain": [
       "                               reviewId           userName  \\\n",
       "0  2947ac67-cbaa-4b28-9902-68502b426291       Amooti Mauda   \n",
       "1  b8316d47-5ec1-4197-986b-81e5d59c1bef          Sue Evans   \n",
       "2  d3b8f714-5f51-4c4f-b36d-00855612a0d0      Isobel Pearce   \n",
       "3  40320d5e-27ba-45bd-a326-176d7fda8cb0          SHAM TAVA   \n",
       "4  097b9c32-f84c-4ca0-9e35-dacfc2b55606  Gillian Brandreth   \n",
       "\n",
       "                                           userImage  \\\n",
       "0  https://play-lh.googleusercontent.com/a/ACg8oc...   \n",
       "1  https://play-lh.googleusercontent.com/a/ACg8oc...   \n",
       "2  https://play-lh.googleusercontent.com/a/ACg8oc...   \n",
       "3  https://play-lh.googleusercontent.com/a-/ALV-U...   \n",
       "4  https://play-lh.googleusercontent.com/a/ACg8oc...   \n",
       "\n",
       "                                             content  score  thumbsUpCount  \\\n",
       "0                            Very appropriate thanks      5              0   \n",
       "1                       Easy,very very good thankyou      5              0   \n",
       "2                      Very easy to navigate and use      5              0   \n",
       "3  Fantastic! And easy to worry and security. Won...      5              0   \n",
       "4                                               Good      5              0   \n",
       "\n",
       "  reviewCreatedVersion                  at replyContent repliedAt appVersion  \n",
       "0               2.89.0 2024-03-01 23:33:52         None       NaT     2.89.0  \n",
       "1               2.90.0 2024-03-01 23:17:51         None       NaT     2.90.0  \n",
       "2               2.89.0 2024-03-01 23:00:03         None       NaT     2.89.0  \n",
       "3               2.89.0 2024-03-01 22:52:14         None       NaT     2.89.0  \n",
       "4                 None 2024-03-01 22:18:17         None       NaT       None  "
      ]
     },
     "execution_count": 7,
     "metadata": {},
     "output_type": "execute_result"
    }
   ],
   "source": [
    "df_barclays = pd.DataFrame(np.array(us_reviews),columns=['review'])\n",
    "df_barclays = df_barclays.join(pd.DataFrame(df_barclays.pop('review').tolist()))\n",
    "df_barclays.head() "
   ]
  },
  {
   "cell_type": "code",
   "execution_count": null,
   "id": "3099dced",
   "metadata": {},
   "outputs": [],
   "source": []
  }
 ],
 "metadata": {
  "kernelspec": {
   "display_name": "Python 3 (ipykernel)",
   "language": "python",
   "name": "python3"
  },
  "language_info": {
   "codemirror_mode": {
    "name": "ipython",
    "version": 3
   },
   "file_extension": ".py",
   "mimetype": "text/x-python",
   "name": "python",
   "nbconvert_exporter": "python",
   "pygments_lexer": "ipython3",
   "version": "3.11.4"
  }
 },
 "nbformat": 4,
 "nbformat_minor": 5
}
